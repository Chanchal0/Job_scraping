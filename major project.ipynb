{
 "cells": [
  {
   "cell_type": "markdown",
   "id": "cb730620",
   "metadata": {},
   "source": [
    "# IMPORTING LIBRARIES"
   ]
  },
  {
   "cell_type": "code",
   "execution_count": 1,
   "id": "23f08e9f",
   "metadata": {},
   "outputs": [],
   "source": [
    "from selenium.webdriver.common.by import By\n",
    "from selenium.webdriver import Chrome\n",
    "from selenium import webdriver\n",
    "from selenium.webdriver.common.keys import Keys\n",
    "\n",
    "from selenium.webdriver.support.ui import WebDriverWait\n",
    "from selenium.webdriver.support import expected_conditions as EC\n",
    "from selenium.webdriver.common.by import By\n",
    "\n",
    "\n",
    "import time\n",
    "import pandas as pd\n",
    "import numpy as np\n"
   ]
  },
  {
   "cell_type": "markdown",
   "id": "57ceba0d",
   "metadata": {},
   "source": [
    "# LOADING THE DRIVER AND NAVIGATE INDEED PAGE"
   ]
  },
  {
   "cell_type": "code",
   "execution_count": 35,
   "id": "57ad46d3",
   "metadata": {},
   "outputs": [],
   "source": [
    "driver = webdriver.Chrome()\n",
    "driver.get('https://indeed.com')\n"
   ]
  },
  {
   "cell_type": "markdown",
   "id": "103bf310",
   "metadata": {},
   "source": [
    "# GETTING POSITION AND LOCATION"
   ]
  },
  {
   "cell_type": "code",
   "execution_count": 36,
   "id": "18990108",
   "metadata": {},
   "outputs": [],
   "source": [
    "search_job = driver.find_element(By.ID,'text-input-what')"
   ]
  },
  {
   "cell_type": "code",
   "execution_count": 37,
   "id": "2cafc4d7",
   "metadata": {},
   "outputs": [
    {
     "name": "stdout",
     "output_type": "stream",
     "text": [
      "ENTER ANY POSITION: data analysis\n"
     ]
    }
   ],
   "source": [
    "P=input(\"ENTER ANY POSITION: \")"
   ]
  },
  {
   "cell_type": "code",
   "execution_count": 38,
   "id": "7cce8b59",
   "metadata": {},
   "outputs": [],
   "source": [
    "search_job.send_keys(P)"
   ]
  },
  {
   "cell_type": "code",
   "execution_count": 39,
   "id": "b0bd3d0c",
   "metadata": {},
   "outputs": [],
   "source": [
    "loc_job=driver.find_element(By.ID,'text-input-where')"
   ]
  },
  {
   "cell_type": "code",
   "execution_count": 40,
   "id": "39584089",
   "metadata": {},
   "outputs": [
    {
     "name": "stdout",
     "output_type": "stream",
     "text": [
      "ENTER ANY LOCATION: delhi\n"
     ]
    }
   ],
   "source": [
    "L=input(\"ENTER ANY LOCATION: \")"
   ]
  },
  {
   "cell_type": "code",
   "execution_count": 41,
   "id": "7e585031",
   "metadata": {},
   "outputs": [],
   "source": [
    "loc_job.send_keys(L)"
   ]
  },
  {
   "cell_type": "code",
   "execution_count": 42,
   "id": "e5ea5468",
   "metadata": {},
   "outputs": [],
   "source": [
    "initial_search_button = driver.find_element(By.CLASS_NAME,'yosegi-InlineWhatWhere-primaryButton')\n",
    "initial_search_button.click()\n"
   ]
  },
  {
   "cell_type": "markdown",
   "id": "21d8d0d7",
   "metadata": {},
   "source": [
    "# SORTING RESULT BY DATE"
   ]
  },
  {
   "cell_type": "code",
   "execution_count": 43,
   "id": "6f1e23d3",
   "metadata": {},
   "outputs": [],
   "source": [
    "#sort by date\n",
    "sort_option = driver.find_element(By.CSS_SELECTOR,'#jobsearch-JapanPage > div > div > div.jobsearch-SerpMainContent > div.jobsearch-LeftPane > div.jobsearch-JobCountAndSortPane.is-withPageHeader.i-unmask.is-withPageHeader--small > div > div > div.jobsearch-DesktopSort > span:nth-child(2) > a')\n",
    "sort_option.click()\n"
   ]
  },
  {
   "cell_type": "code",
   "execution_count": 44,
   "id": "afa41c4a",
   "metadata": {},
   "outputs": [],
   "source": [
    "driver.implicitly_wait(3) \n",
    "driver.refresh()\n"
   ]
  },
  {
   "cell_type": "markdown",
   "id": "5449bf99",
   "metadata": {},
   "source": [
    "# FINDING JOB CARD AND ALL THE DETAILS"
   ]
  },
  {
   "cell_type": "code",
   "execution_count": 48,
   "id": "5fdc3b2a",
   "metadata": {},
   "outputs": [
    {
     "name": "stdout",
     "output_type": "stream",
     "text": [
      "Page: 2\n",
      "Page: 3\n",
      "Page: 4\n",
      "Page: 5\n",
      "Page: 6\n",
      "Page: 7\n",
      "Page: 8\n",
      "Page: 9\n",
      "Page: 10\n",
      "Page: 11\n",
      "Page: 12\n",
      "Page: 13\n",
      "Page: 14\n",
      "Page: 15\n",
      "Page: 16\n",
      "Page: 17\n",
      "Page: 18\n",
      "Page: 19\n",
      "Page: 20\n",
      "Page: 21\n",
      "Page: 22\n",
      "Page: 23\n",
      "Page: 24\n",
      "Page: 25\n",
      "Page: 26\n",
      "Page: 27\n",
      "Page: 28\n",
      "Page: 29\n",
      "Page: 30\n",
      "Page: 31\n"
     ]
    },
    {
     "ename": "NoSuchElementException",
     "evalue": "Message: no such element: Unable to locate element: {\"method\":\"xpath\",\"selector\":\"//*[@id=\"jobsearch-JapanPage\"]/div/div/div[5]/div[1]/nav/div[6]/a/svg\"}\n  (Session info: chrome=113.0.5672.63)\nStacktrace:\nBacktrace:\n\tGetHandleVerifier [0x00818893+48451]\n\t(No symbol) [0x007AB8A1]\n\t(No symbol) [0x006B5058]\n\t(No symbol) [0x006E0467]\n\t(No symbol) [0x006E069B]\n\t(No symbol) [0x0070DD92]\n\t(No symbol) [0x006FA304]\n\t(No symbol) [0x0070C482]\n\t(No symbol) [0x006FA0B6]\n\t(No symbol) [0x006D7E08]\n\t(No symbol) [0x006D8F2D]\n\tGetHandleVerifier [0x00A78E3A+2540266]\n\tGetHandleVerifier [0x00AB8959+2801161]\n\tGetHandleVerifier [0x00AB295C+2776588]\n\tGetHandleVerifier [0x008A2280+612144]\n\t(No symbol) [0x007B4F6C]\n\t(No symbol) [0x007B11D8]\n\t(No symbol) [0x007B12BB]\n\t(No symbol) [0x007A4857]\n\tBaseThreadInitThunk [0x763D7D49+25]\n\tRtlInitializeExceptionChain [0x777BB74B+107]\n\tRtlClearBits [0x777BB6CF+191]\n",
     "output_type": "error",
     "traceback": [
      "\u001b[1;31m---------------------------------------------------------------------------\u001b[0m",
      "\u001b[1;31mNoSuchElementException\u001b[0m                    Traceback (most recent call last)",
      "\u001b[1;32mE:\\/ipykernel_6164/1643732106.py\u001b[0m in \u001b[0;36m<cell line: 9>\u001b[1;34m()\u001b[0m\n\u001b[0;32m     42\u001b[0m         \u001b[1;32mtry\u001b[0m\u001b[1;33m:\u001b[0m\u001b[1;33m\u001b[0m\u001b[1;33m\u001b[0m\u001b[0m\n\u001b[1;32m---> 43\u001b[1;33m             \u001b[0mnext_page\u001b[0m \u001b[1;33m=\u001b[0m \u001b[0mdriver\u001b[0m\u001b[1;33m.\u001b[0m\u001b[0mfind_element\u001b[0m\u001b[1;33m(\u001b[0m\u001b[0mBy\u001b[0m\u001b[1;33m.\u001b[0m\u001b[0mXPATH\u001b[0m\u001b[1;33m,\u001b[0m\u001b[1;34m'//*[@id=\"jobsearch-JapanPage\"]/div/div/div[5]/div[1]/nav/div[6]/a'\u001b[0m\u001b[1;33m.\u001b[0m\u001b[0mformat\u001b[0m\u001b[1;33m(\u001b[0m\u001b[0mi\u001b[0m\u001b[1;33m+\u001b[0m\u001b[1;36m2\u001b[0m\u001b[1;33m)\u001b[0m\u001b[1;33m)\u001b[0m\u001b[1;33m\u001b[0m\u001b[1;33m\u001b[0m\u001b[0m\n\u001b[0m\u001b[0;32m     44\u001b[0m             \u001b[0mnext_page\u001b[0m\u001b[1;33m.\u001b[0m\u001b[0mclick\u001b[0m\u001b[1;33m(\u001b[0m\u001b[1;33m)\u001b[0m\u001b[1;33m\u001b[0m\u001b[1;33m\u001b[0m\u001b[0m\n",
      "\u001b[1;32m~\\anaconda3\\lib\\site-packages\\selenium\\webdriver\\remote\\webdriver.py\u001b[0m in \u001b[0;36mfind_element\u001b[1;34m(self, by, value)\u001b[0m\n\u001b[0;32m    830\u001b[0m \u001b[1;33m\u001b[0m\u001b[0m\n\u001b[1;32m--> 831\u001b[1;33m         \u001b[1;32mreturn\u001b[0m \u001b[0mself\u001b[0m\u001b[1;33m.\u001b[0m\u001b[0mexecute\u001b[0m\u001b[1;33m(\u001b[0m\u001b[0mCommand\u001b[0m\u001b[1;33m.\u001b[0m\u001b[0mFIND_ELEMENT\u001b[0m\u001b[1;33m,\u001b[0m \u001b[1;33m{\u001b[0m\u001b[1;34m\"using\"\u001b[0m\u001b[1;33m:\u001b[0m \u001b[0mby\u001b[0m\u001b[1;33m,\u001b[0m \u001b[1;34m\"value\"\u001b[0m\u001b[1;33m:\u001b[0m \u001b[0mvalue\u001b[0m\u001b[1;33m}\u001b[0m\u001b[1;33m)\u001b[0m\u001b[1;33m[\u001b[0m\u001b[1;34m\"value\"\u001b[0m\u001b[1;33m]\u001b[0m\u001b[1;33m\u001b[0m\u001b[1;33m\u001b[0m\u001b[0m\n\u001b[0m\u001b[0;32m    832\u001b[0m \u001b[1;33m\u001b[0m\u001b[0m\n",
      "\u001b[1;32m~\\anaconda3\\lib\\site-packages\\selenium\\webdriver\\remote\\webdriver.py\u001b[0m in \u001b[0;36mexecute\u001b[1;34m(self, driver_command, params)\u001b[0m\n\u001b[0;32m    439\u001b[0m         \u001b[1;32mif\u001b[0m \u001b[0mresponse\u001b[0m\u001b[1;33m:\u001b[0m\u001b[1;33m\u001b[0m\u001b[1;33m\u001b[0m\u001b[0m\n\u001b[1;32m--> 440\u001b[1;33m             \u001b[0mself\u001b[0m\u001b[1;33m.\u001b[0m\u001b[0merror_handler\u001b[0m\u001b[1;33m.\u001b[0m\u001b[0mcheck_response\u001b[0m\u001b[1;33m(\u001b[0m\u001b[0mresponse\u001b[0m\u001b[1;33m)\u001b[0m\u001b[1;33m\u001b[0m\u001b[1;33m\u001b[0m\u001b[0m\n\u001b[0m\u001b[0;32m    441\u001b[0m             \u001b[0mresponse\u001b[0m\u001b[1;33m[\u001b[0m\u001b[1;34m\"value\"\u001b[0m\u001b[1;33m]\u001b[0m \u001b[1;33m=\u001b[0m \u001b[0mself\u001b[0m\u001b[1;33m.\u001b[0m\u001b[0m_unwrap_value\u001b[0m\u001b[1;33m(\u001b[0m\u001b[0mresponse\u001b[0m\u001b[1;33m.\u001b[0m\u001b[0mget\u001b[0m\u001b[1;33m(\u001b[0m\u001b[1;34m\"value\"\u001b[0m\u001b[1;33m,\u001b[0m \u001b[1;32mNone\u001b[0m\u001b[1;33m)\u001b[0m\u001b[1;33m)\u001b[0m\u001b[1;33m\u001b[0m\u001b[1;33m\u001b[0m\u001b[0m\n",
      "\u001b[1;32m~\\anaconda3\\lib\\site-packages\\selenium\\webdriver\\remote\\errorhandler.py\u001b[0m in \u001b[0;36mcheck_response\u001b[1;34m(self, response)\u001b[0m\n\u001b[0;32m    244\u001b[0m             \u001b[1;32mraise\u001b[0m \u001b[0mexception_class\u001b[0m\u001b[1;33m(\u001b[0m\u001b[0mmessage\u001b[0m\u001b[1;33m,\u001b[0m \u001b[0mscreen\u001b[0m\u001b[1;33m,\u001b[0m \u001b[0mstacktrace\u001b[0m\u001b[1;33m,\u001b[0m \u001b[0malert_text\u001b[0m\u001b[1;33m)\u001b[0m  \u001b[1;31m# type: ignore[call-arg]  # mypy is not smart enough here\u001b[0m\u001b[1;33m\u001b[0m\u001b[1;33m\u001b[0m\u001b[0m\n\u001b[1;32m--> 245\u001b[1;33m         \u001b[1;32mraise\u001b[0m \u001b[0mexception_class\u001b[0m\u001b[1;33m(\u001b[0m\u001b[0mmessage\u001b[0m\u001b[1;33m,\u001b[0m \u001b[0mscreen\u001b[0m\u001b[1;33m,\u001b[0m \u001b[0mstacktrace\u001b[0m\u001b[1;33m)\u001b[0m\u001b[1;33m\u001b[0m\u001b[1;33m\u001b[0m\u001b[0m\n\u001b[0m",
      "\u001b[1;31mNoSuchElementException\u001b[0m: Message: no such element: Unable to locate element: {\"method\":\"xpath\",\"selector\":\"//*[@id=\"jobsearch-JapanPage\"]/div/div/div[5]/div[1]/nav/div[6]/a\"}\n  (Session info: chrome=113.0.5672.63)\nStacktrace:\nBacktrace:\n\tGetHandleVerifier [0x00818893+48451]\n\t(No symbol) [0x007AB8A1]\n\t(No symbol) [0x006B5058]\n\t(No symbol) [0x006E0467]\n\t(No symbol) [0x006E069B]\n\t(No symbol) [0x0070DD92]\n\t(No symbol) [0x006FA304]\n\t(No symbol) [0x0070C482]\n\t(No symbol) [0x006FA0B6]\n\t(No symbol) [0x006D7E08]\n\t(No symbol) [0x006D8F2D]\n\tGetHandleVerifier [0x00A78E3A+2540266]\n\tGetHandleVerifier [0x00AB8959+2801161]\n\tGetHandleVerifier [0x00AB295C+2776588]\n\tGetHandleVerifier [0x008A2280+612144]\n\t(No symbol) [0x007B4F6C]\n\t(No symbol) [0x007B11D8]\n\t(No symbol) [0x007B12BB]\n\t(No symbol) [0x007A4857]\n\tBaseThreadInitThunk [0x763D7D49+25]\n\tRtlInitializeExceptionChain [0x777BB74B+107]\n\tRtlClearBits [0x777BB6CF+191]\n",
      "\nDuring handling of the above exception, another exception occurred:\n",
      "\u001b[1;31mNoSuchElementException\u001b[0m                    Traceback (most recent call last)",
      "\u001b[1;32mE:\\/ipykernel_6164/1643732106.py\u001b[0m in \u001b[0;36m<cell line: 9>\u001b[1;34m()\u001b[0m\n\u001b[0;32m     45\u001b[0m \u001b[1;33m\u001b[0m\u001b[0m\n\u001b[0;32m     46\u001b[0m         \u001b[1;32mexcept\u001b[0m\u001b[1;33m:\u001b[0m\u001b[1;33m\u001b[0m\u001b[1;33m\u001b[0m\u001b[0m\n\u001b[1;32m---> 47\u001b[1;33m             \u001b[0mnext_page\u001b[0m \u001b[1;33m=\u001b[0m \u001b[0mdriver\u001b[0m\u001b[1;33m.\u001b[0m\u001b[0mfind_element\u001b[0m\u001b[1;33m(\u001b[0m\u001b[0mBy\u001b[0m\u001b[1;33m.\u001b[0m\u001b[0mXPATH\u001b[0m\u001b[1;33m,\u001b[0m\u001b[1;34m'//*[@id=\"jobsearch-JapanPage\"]/div/div/div[5]/div[1]/nav/div[6]/a/svg'\u001b[0m\u001b[1;33m)\u001b[0m\u001b[1;33m\u001b[0m\u001b[1;33m\u001b[0m\u001b[0m\n\u001b[0m\u001b[0;32m     48\u001b[0m             \u001b[0mnext_page\u001b[0m\u001b[1;33m.\u001b[0m\u001b[0mclick\u001b[0m\u001b[1;33m(\u001b[0m\u001b[1;33m)\u001b[0m\u001b[1;33m\u001b[0m\u001b[1;33m\u001b[0m\u001b[0m\n\u001b[0;32m     49\u001b[0m \u001b[1;33m\u001b[0m\u001b[0m\n",
      "\u001b[1;32m~\\anaconda3\\lib\\site-packages\\selenium\\webdriver\\remote\\webdriver.py\u001b[0m in \u001b[0;36mfind_element\u001b[1;34m(self, by, value)\u001b[0m\n\u001b[0;32m    829\u001b[0m             \u001b[0mvalue\u001b[0m \u001b[1;33m=\u001b[0m \u001b[1;34mf'[name=\"{value}\"]'\u001b[0m\u001b[1;33m\u001b[0m\u001b[1;33m\u001b[0m\u001b[0m\n\u001b[0;32m    830\u001b[0m \u001b[1;33m\u001b[0m\u001b[0m\n\u001b[1;32m--> 831\u001b[1;33m         \u001b[1;32mreturn\u001b[0m \u001b[0mself\u001b[0m\u001b[1;33m.\u001b[0m\u001b[0mexecute\u001b[0m\u001b[1;33m(\u001b[0m\u001b[0mCommand\u001b[0m\u001b[1;33m.\u001b[0m\u001b[0mFIND_ELEMENT\u001b[0m\u001b[1;33m,\u001b[0m \u001b[1;33m{\u001b[0m\u001b[1;34m\"using\"\u001b[0m\u001b[1;33m:\u001b[0m \u001b[0mby\u001b[0m\u001b[1;33m,\u001b[0m \u001b[1;34m\"value\"\u001b[0m\u001b[1;33m:\u001b[0m \u001b[0mvalue\u001b[0m\u001b[1;33m}\u001b[0m\u001b[1;33m)\u001b[0m\u001b[1;33m[\u001b[0m\u001b[1;34m\"value\"\u001b[0m\u001b[1;33m]\u001b[0m\u001b[1;33m\u001b[0m\u001b[1;33m\u001b[0m\u001b[0m\n\u001b[0m\u001b[0;32m    832\u001b[0m \u001b[1;33m\u001b[0m\u001b[0m\n\u001b[0;32m    833\u001b[0m     \u001b[1;32mdef\u001b[0m \u001b[0mfind_elements\u001b[0m\u001b[1;33m(\u001b[0m\u001b[0mself\u001b[0m\u001b[1;33m,\u001b[0m \u001b[0mby\u001b[0m\u001b[1;33m=\u001b[0m\u001b[0mBy\u001b[0m\u001b[1;33m.\u001b[0m\u001b[0mID\u001b[0m\u001b[1;33m,\u001b[0m \u001b[0mvalue\u001b[0m\u001b[1;33m:\u001b[0m \u001b[0mOptional\u001b[0m\u001b[1;33m[\u001b[0m\u001b[0mstr\u001b[0m\u001b[1;33m]\u001b[0m \u001b[1;33m=\u001b[0m \u001b[1;32mNone\u001b[0m\u001b[1;33m)\u001b[0m \u001b[1;33m->\u001b[0m \u001b[0mList\u001b[0m\u001b[1;33m[\u001b[0m\u001b[0mWebElement\u001b[0m\u001b[1;33m]\u001b[0m\u001b[1;33m:\u001b[0m\u001b[1;33m\u001b[0m\u001b[1;33m\u001b[0m\u001b[0m\n",
      "\u001b[1;32m~\\anaconda3\\lib\\site-packages\\selenium\\webdriver\\remote\\webdriver.py\u001b[0m in \u001b[0;36mexecute\u001b[1;34m(self, driver_command, params)\u001b[0m\n\u001b[0;32m    438\u001b[0m         \u001b[0mresponse\u001b[0m \u001b[1;33m=\u001b[0m \u001b[0mself\u001b[0m\u001b[1;33m.\u001b[0m\u001b[0mcommand_executor\u001b[0m\u001b[1;33m.\u001b[0m\u001b[0mexecute\u001b[0m\u001b[1;33m(\u001b[0m\u001b[0mdriver_command\u001b[0m\u001b[1;33m,\u001b[0m \u001b[0mparams\u001b[0m\u001b[1;33m)\u001b[0m\u001b[1;33m\u001b[0m\u001b[1;33m\u001b[0m\u001b[0m\n\u001b[0;32m    439\u001b[0m         \u001b[1;32mif\u001b[0m \u001b[0mresponse\u001b[0m\u001b[1;33m:\u001b[0m\u001b[1;33m\u001b[0m\u001b[1;33m\u001b[0m\u001b[0m\n\u001b[1;32m--> 440\u001b[1;33m             \u001b[0mself\u001b[0m\u001b[1;33m.\u001b[0m\u001b[0merror_handler\u001b[0m\u001b[1;33m.\u001b[0m\u001b[0mcheck_response\u001b[0m\u001b[1;33m(\u001b[0m\u001b[0mresponse\u001b[0m\u001b[1;33m)\u001b[0m\u001b[1;33m\u001b[0m\u001b[1;33m\u001b[0m\u001b[0m\n\u001b[0m\u001b[0;32m    441\u001b[0m             \u001b[0mresponse\u001b[0m\u001b[1;33m[\u001b[0m\u001b[1;34m\"value\"\u001b[0m\u001b[1;33m]\u001b[0m \u001b[1;33m=\u001b[0m \u001b[0mself\u001b[0m\u001b[1;33m.\u001b[0m\u001b[0m_unwrap_value\u001b[0m\u001b[1;33m(\u001b[0m\u001b[0mresponse\u001b[0m\u001b[1;33m.\u001b[0m\u001b[0mget\u001b[0m\u001b[1;33m(\u001b[0m\u001b[1;34m\"value\"\u001b[0m\u001b[1;33m,\u001b[0m \u001b[1;32mNone\u001b[0m\u001b[1;33m)\u001b[0m\u001b[1;33m)\u001b[0m\u001b[1;33m\u001b[0m\u001b[1;33m\u001b[0m\u001b[0m\n\u001b[0;32m    442\u001b[0m             \u001b[1;32mreturn\u001b[0m \u001b[0mresponse\u001b[0m\u001b[1;33m\u001b[0m\u001b[1;33m\u001b[0m\u001b[0m\n",
      "\u001b[1;32m~\\anaconda3\\lib\\site-packages\\selenium\\webdriver\\remote\\errorhandler.py\u001b[0m in \u001b[0;36mcheck_response\u001b[1;34m(self, response)\u001b[0m\n\u001b[0;32m    243\u001b[0m                 \u001b[0malert_text\u001b[0m \u001b[1;33m=\u001b[0m \u001b[0mvalue\u001b[0m\u001b[1;33m[\u001b[0m\u001b[1;34m\"alert\"\u001b[0m\u001b[1;33m]\u001b[0m\u001b[1;33m.\u001b[0m\u001b[0mget\u001b[0m\u001b[1;33m(\u001b[0m\u001b[1;34m\"text\"\u001b[0m\u001b[1;33m)\u001b[0m\u001b[1;33m\u001b[0m\u001b[1;33m\u001b[0m\u001b[0m\n\u001b[0;32m    244\u001b[0m             \u001b[1;32mraise\u001b[0m \u001b[0mexception_class\u001b[0m\u001b[1;33m(\u001b[0m\u001b[0mmessage\u001b[0m\u001b[1;33m,\u001b[0m \u001b[0mscreen\u001b[0m\u001b[1;33m,\u001b[0m \u001b[0mstacktrace\u001b[0m\u001b[1;33m,\u001b[0m \u001b[0malert_text\u001b[0m\u001b[1;33m)\u001b[0m  \u001b[1;31m# type: ignore[call-arg]  # mypy is not smart enough here\u001b[0m\u001b[1;33m\u001b[0m\u001b[1;33m\u001b[0m\u001b[0m\n\u001b[1;32m--> 245\u001b[1;33m         \u001b[1;32mraise\u001b[0m \u001b[0mexception_class\u001b[0m\u001b[1;33m(\u001b[0m\u001b[0mmessage\u001b[0m\u001b[1;33m,\u001b[0m \u001b[0mscreen\u001b[0m\u001b[1;33m,\u001b[0m \u001b[0mstacktrace\u001b[0m\u001b[1;33m)\u001b[0m\u001b[1;33m\u001b[0m\u001b[1;33m\u001b[0m\u001b[0m\n\u001b[0m",
      "\u001b[1;31mNoSuchElementException\u001b[0m: Message: no such element: Unable to locate element: {\"method\":\"xpath\",\"selector\":\"//*[@id=\"jobsearch-JapanPage\"]/div/div/div[5]/div[1]/nav/div[6]/a/svg\"}\n  (Session info: chrome=113.0.5672.63)\nStacktrace:\nBacktrace:\n\tGetHandleVerifier [0x00818893+48451]\n\t(No symbol) [0x007AB8A1]\n\t(No symbol) [0x006B5058]\n\t(No symbol) [0x006E0467]\n\t(No symbol) [0x006E069B]\n\t(No symbol) [0x0070DD92]\n\t(No symbol) [0x006FA304]\n\t(No symbol) [0x0070C482]\n\t(No symbol) [0x006FA0B6]\n\t(No symbol) [0x006D7E08]\n\t(No symbol) [0x006D8F2D]\n\tGetHandleVerifier [0x00A78E3A+2540266]\n\tGetHandleVerifier [0x00AB8959+2801161]\n\tGetHandleVerifier [0x00AB295C+2776588]\n\tGetHandleVerifier [0x008A2280+612144]\n\t(No symbol) [0x007B4F6C]\n\t(No symbol) [0x007B11D8]\n\t(No symbol) [0x007B12BB]\n\t(No symbol) [0x007A4857]\n\tBaseThreadInitThunk [0x763D7D49+25]\n\tRtlInitializeExceptionChain [0x777BB74B+107]\n\tRtlClearBits [0x777BB6CF+191]\n"
     ]
    }
   ],
   "source": [
    "titles=[]\n",
    "companies=[]\n",
    "locations=[]\n",
    "links =[]\n",
    "reviews=[]\n",
    "salaries = []\n",
    "descriptions=[]\n",
    "\n",
    "for i in range(0,70):\n",
    "    \n",
    "    job_card = driver.find_elements(By.XPATH,'//*[@id=\"mosaic-jobResults\"]')\n",
    "    \n",
    "    for job in job_card:\n",
    "       \n",
    "    #.  not all companies have review\n",
    "        try:\n",
    "            review = job.find_element(By.XPATH,'//*[@id=\"mosaic-provider-jobcards\"]/ul/li[2]/div/div[1]/div/div[1]/div/table[1]/tbody/tr/td/div[2]/span[2]').text\n",
    "        except:\n",
    "            review = \"None\"\n",
    "        reviews.append(review)\n",
    "        \n",
    "           #.   not all positions have salary\n",
    "        try:\n",
    "            salary = job.find_element(By.XPATH,'//*[@id=\"mosaic-provider-jobcards\"]/ul/li[1]/div/div[1]/div/div[1]/div/table[1]/tbody/tr/td/div[3]/div[1]').text\n",
    "        except:\n",
    "            salary = \"None\"\n",
    "    #.  tells only to look at the element       \n",
    "        salaries.append(salary)\n",
    "        \n",
    "        try:\n",
    "            location = job.find_element(By.XPATH,'//*[@id=\"mosaic-provider-jobcards\"]/ul/li[1]/div/div[1]/div/div[1]/div/table[1]/tbody/tr/td/div[2]/div').text\n",
    "        except:\n",
    "            location = \"None\"\n",
    "    #.  tells only to look at the element       \n",
    "        locations.append(location)\n",
    "    \n",
    "        title  = job.find_element(By.XPATH,'//*[@id=\"mosaic-provider-jobcards\"]/ul/li[1]/div/div[1]/div/div[1]/div/table[1]/tbody/tr/td/div[1]/h2').text \n",
    "        titles.append(title)\n",
    "        links.append(job.find_element(By.XPATH,'//*[@id=\"mosaic-provider-jobcards\"]/ul/li[1]/div/div[1]/div/div[1]/div/table[1]/tbody/tr/td/div[1]/h2').get_attribute(name=\"href\"))\n",
    "        companies.append(job.find_element(By.XPATH,'//*[@id=\"mosaic-provider-jobcards\"]/ul/li[1]/div/div[1]/div/div[1]/div/table[1]/tbody/tr/td/div[2]/span').text)\n",
    "        \n",
    "        try:\n",
    "            next_page = driver.find_element(By.XPATH,'//*[@id=\"jobsearch-JapanPage\"]/div/div/div[5]/div[1]/nav/div[6]/a'.format(i+2))\n",
    "            next_page.click()\n",
    "\n",
    "        except:\n",
    "            next_page = driver.find_element(By.XPATH,'//*[@id=\"jobsearch-JapanPage\"]/div/div/div[5]/div[1]/nav/div[6]/a/svg')\n",
    "            next_page.click()\n",
    "        \n",
    "        print(\"Page: {}\".format(str(i+2)))\n"
   ]
  },
  {
   "cell_type": "markdown",
   "id": "5d7f04fb",
   "metadata": {},
   "source": [
    "# VISUALIZING RESULTS"
   ]
  },
  {
   "cell_type": "code",
   "execution_count": 49,
   "id": "79315e7b",
   "metadata": {},
   "outputs": [],
   "source": [
    "from collections import Counter\n",
    "\n",
    "my_count = Counter(locations)\n"
   ]
  },
  {
   "cell_type": "code",
   "execution_count": 50,
   "id": "fda192a6",
   "metadata": {},
   "outputs": [
    {
     "data": {
      "text/plain": [
       "Counter({'Delhi, Delhi': 10,\n",
       "         'Remote in New Delhi, Delhi': 1,\n",
       "         'New Delhi, Delhi': 15,\n",
       "         'Remote in Delhi, Delhi': 2,\n",
       "         'Delhi': 2,\n",
       "         'Nanakpura, Delhi': 1})"
      ]
     },
     "execution_count": 50,
     "metadata": {},
     "output_type": "execute_result"
    }
   ],
   "source": [
    "my_count  "
   ]
  },
  {
   "cell_type": "code",
   "execution_count": 51,
   "id": "63ef0d2d",
   "metadata": {},
   "outputs": [
    {
     "data": {
      "text/plain": [
       "['Business Analysis & Operations Lead/Senior Lead',\n",
       " 'Data Analyst',\n",
       " 'Backend developer PHP',\n",
       " 'Data Analyst',\n",
       " 'IT Senior Data Analyst',\n",
       " 'Financial Analyst',\n",
       " 'Virtual CFO',\n",
       " 'SAP CO Profitability Analysis Application Lead',\n",
       " 'PHP Developer',\n",
       " 'Integration Architect',\n",
       " 'MIS EXECUTIVE - IT - MALE',\n",
       " 'Lead Assistant Manager',\n",
       " 'Associate – Global Travel & Expense',\n",
       " 'Vice President (E1) – Cyber Security – (Cloud Security)',\n",
       " 'Data Warehouse Engineer',\n",
       " 'UX Consultant',\n",
       " 'Senior Research Associate (Monitoring & Evaluation)',\n",
       " 'Business Analyst',\n",
       " 'Engineering Analyst – Java Lead',\n",
       " 'SAP B1 Functional Consultant / Executive (New Delhi)',\n",
       " 'Junior Analyst - On Contract',\n",
       " 'Software Developer',\n",
       " 'Senior Manager -Bioinformatics',\n",
       " 'Web Project Manager',\n",
       " 'Network Administrator Internship',\n",
       " 'Global Finance Data Steward, Director',\n",
       " 'Human Resource Manager',\n",
       " 'Content Manager Internship',\n",
       " 'Big Data Engineer',\n",
       " 'Supplier Due Diligence and Risk Management Specialist',\n",
       " 'Civil Software Support Engineer']"
      ]
     },
     "execution_count": 51,
     "metadata": {},
     "output_type": "execute_result"
    }
   ],
   "source": [
    "titles"
   ]
  },
  {
   "cell_type": "code",
   "execution_count": 52,
   "id": "837d43ff",
   "metadata": {},
   "outputs": [
    {
     "data": {
      "text/plain": [
       "['Agoda Company',\n",
       " 'FXSwede',\n",
       " 'SBC Associates Pvt. Ltd. (Webtrills)',\n",
       " 'Lucreskill Tech Pvt. Ltd.',\n",
       " 'Boston Consulting Group',\n",
       " 'Homeward',\n",
       " 'AWOKE India Foundation',\n",
       " 'Accenture',\n",
       " 'Team IHA LLP',\n",
       " 'Trigyn',\n",
       " 'Pret Study By Janak Fashions Pvt. Ltd.',\n",
       " 'EXL',\n",
       " 'Boston Consulting Group',\n",
       " \"Spencer 'n' Hills\",\n",
       " 'eSamudaay',\n",
       " 'ISITCA PRIVATE LIMITED',\n",
       " 'Centre for Policy Research (CPR)',\n",
       " 'Recex',\n",
       " 'Orchid Innovations',\n",
       " 'DSS Imagetech',\n",
       " 'Boston Consulting Group',\n",
       " 'Consilium Software',\n",
       " 'MedGenome Labs',\n",
       " 'Crypto Mize',\n",
       " 'Crypto Mize',\n",
       " 'Boston Consulting Group',\n",
       " 'Crypto Mize',\n",
       " 'Crypto Mize',\n",
       " 'Bechtel',\n",
       " 'Boston Consulting Group',\n",
       " 'Bechtel']"
      ]
     },
     "execution_count": 52,
     "metadata": {},
     "output_type": "execute_result"
    }
   ],
   "source": [
    "companies"
   ]
  },
  {
   "cell_type": "code",
   "execution_count": 53,
   "id": "0a6300ac",
   "metadata": {},
   "outputs": [
    {
     "data": {
      "text/plain": [
       "['Delhi, Delhi',\n",
       " 'Remote in New Delhi, Delhi',\n",
       " 'Delhi, Delhi',\n",
       " 'Delhi, Delhi',\n",
       " 'New Delhi, Delhi',\n",
       " 'New Delhi, Delhi',\n",
       " 'Remote in Delhi, Delhi',\n",
       " 'New Delhi, Delhi',\n",
       " 'New Delhi, Delhi',\n",
       " 'Delhi, Delhi',\n",
       " 'New Delhi, Delhi',\n",
       " 'Delhi',\n",
       " 'New Delhi, Delhi',\n",
       " 'Delhi, Delhi',\n",
       " 'New Delhi, Delhi',\n",
       " 'New Delhi, Delhi',\n",
       " 'Nanakpura, Delhi',\n",
       " 'Delhi, Delhi',\n",
       " 'Delhi',\n",
       " 'Remote in Delhi, Delhi',\n",
       " 'New Delhi, Delhi',\n",
       " 'New Delhi, Delhi',\n",
       " 'New Delhi, Delhi',\n",
       " 'Delhi, Delhi',\n",
       " 'Delhi, Delhi',\n",
       " 'New Delhi, Delhi',\n",
       " 'Delhi, Delhi',\n",
       " 'Delhi, Delhi',\n",
       " 'New Delhi, Delhi',\n",
       " 'New Delhi, Delhi',\n",
       " 'New Delhi, Delhi']"
      ]
     },
     "execution_count": 53,
     "metadata": {},
     "output_type": "execute_result"
    }
   ],
   "source": [
    "locations"
   ]
  },
  {
   "cell_type": "markdown",
   "id": "f4f18159",
   "metadata": {},
   "source": [
    "# PUTTING IN A DATAFRAME"
   ]
  },
  {
   "cell_type": "code",
   "execution_count": 54,
   "id": "d943623c",
   "metadata": {},
   "outputs": [],
   "source": [
    "df_da=pd.DataFrame()\n",
    "df_da['Title']=titles\n",
    "df_da['Company']=companies\n",
    "df_da['Location']=location\n",
    "df_da['Link']=links\n",
    "df_da['Review']=reviews\n",
    "df_da['Salary']=salaries\n",
    "#df_da['Description']=descriptions"
   ]
  },
  {
   "cell_type": "code",
   "execution_count": 55,
   "id": "4c26c614",
   "metadata": {},
   "outputs": [
    {
     "data": {
      "text/html": [
       "<div>\n",
       "<style scoped>\n",
       "    .dataframe tbody tr th:only-of-type {\n",
       "        vertical-align: middle;\n",
       "    }\n",
       "\n",
       "    .dataframe tbody tr th {\n",
       "        vertical-align: top;\n",
       "    }\n",
       "\n",
       "    .dataframe thead th {\n",
       "        text-align: right;\n",
       "    }\n",
       "</style>\n",
       "<table border=\"1\" class=\"dataframe\">\n",
       "  <thead>\n",
       "    <tr style=\"text-align: right;\">\n",
       "      <th></th>\n",
       "      <th>Title</th>\n",
       "      <th>Company</th>\n",
       "      <th>Location</th>\n",
       "      <th>Link</th>\n",
       "      <th>Review</th>\n",
       "      <th>Salary</th>\n",
       "    </tr>\n",
       "  </thead>\n",
       "  <tbody>\n",
       "    <tr>\n",
       "      <th>0</th>\n",
       "      <td>Business Analysis &amp; Operations Lead/Senior Lead</td>\n",
       "      <td>Agoda Company</td>\n",
       "      <td>New Delhi, Delhi</td>\n",
       "      <td>None</td>\n",
       "      <td>3.9</td>\n",
       "      <td>None</td>\n",
       "    </tr>\n",
       "    <tr>\n",
       "      <th>1</th>\n",
       "      <td>Data Analyst</td>\n",
       "      <td>FXSwede</td>\n",
       "      <td>New Delhi, Delhi</td>\n",
       "      <td>None</td>\n",
       "      <td>3.8</td>\n",
       "      <td>Contractual / Temporary</td>\n",
       "    </tr>\n",
       "    <tr>\n",
       "      <th>2</th>\n",
       "      <td>Backend developer PHP</td>\n",
       "      <td>SBC Associates Pvt. Ltd. (Webtrills)</td>\n",
       "      <td>New Delhi, Delhi</td>\n",
       "      <td>None</td>\n",
       "      <td>None</td>\n",
       "      <td>₹20,000 - ₹25,000 a month</td>\n",
       "    </tr>\n",
       "    <tr>\n",
       "      <th>3</th>\n",
       "      <td>Data Analyst</td>\n",
       "      <td>Lucreskill Tech Pvt. Ltd.</td>\n",
       "      <td>New Delhi, Delhi</td>\n",
       "      <td>None</td>\n",
       "      <td>None</td>\n",
       "      <td>Full-time\\n+1</td>\n",
       "    </tr>\n",
       "    <tr>\n",
       "      <th>4</th>\n",
       "      <td>IT Senior Data Analyst</td>\n",
       "      <td>Boston Consulting Group</td>\n",
       "      <td>New Delhi, Delhi</td>\n",
       "      <td>None</td>\n",
       "      <td>None</td>\n",
       "      <td>None</td>\n",
       "    </tr>\n",
       "  </tbody>\n",
       "</table>\n",
       "</div>"
      ],
      "text/plain": [
       "                                             Title  \\\n",
       "0  Business Analysis & Operations Lead/Senior Lead   \n",
       "1                                     Data Analyst   \n",
       "2                            Backend developer PHP   \n",
       "3                                     Data Analyst   \n",
       "4                           IT Senior Data Analyst   \n",
       "\n",
       "                                Company          Location  Link Review  \\\n",
       "0                         Agoda Company  New Delhi, Delhi  None    3.9   \n",
       "1                               FXSwede  New Delhi, Delhi  None    3.8   \n",
       "2  SBC Associates Pvt. Ltd. (Webtrills)  New Delhi, Delhi  None   None   \n",
       "3             Lucreskill Tech Pvt. Ltd.  New Delhi, Delhi  None   None   \n",
       "4               Boston Consulting Group  New Delhi, Delhi  None   None   \n",
       "\n",
       "                      Salary  \n",
       "0                       None  \n",
       "1    Contractual / Temporary  \n",
       "2  ₹20,000 - ₹25,000 a month  \n",
       "3              Full-time\\n+1  \n",
       "4                       None  "
      ]
     },
     "execution_count": 55,
     "metadata": {},
     "output_type": "execute_result"
    }
   ],
   "source": [
    "df_da.head()"
   ]
  },
  {
   "cell_type": "code",
   "execution_count": 56,
   "id": "82558017",
   "metadata": {},
   "outputs": [
    {
     "name": "stdout",
     "output_type": "stream",
     "text": [
      "<class 'pandas.core.frame.DataFrame'>\n",
      "RangeIndex: 31 entries, 0 to 30\n",
      "Data columns (total 6 columns):\n",
      " #   Column    Non-Null Count  Dtype \n",
      "---  ------    --------------  ----- \n",
      " 0   Title     31 non-null     object\n",
      " 1   Company   31 non-null     object\n",
      " 2   Location  31 non-null     object\n",
      " 3   Link      0 non-null      object\n",
      " 4   Review    31 non-null     object\n",
      " 5   Salary    31 non-null     object\n",
      "dtypes: object(6)\n",
      "memory usage: 1.6+ KB\n"
     ]
    }
   ],
   "source": [
    "df_da.info()"
   ]
  },
  {
   "cell_type": "markdown",
   "id": "ed3b0b44",
   "metadata": {},
   "source": [
    "# SAVING IT INTO CSV FILE"
   ]
  },
  {
   "cell_type": "code",
   "execution_count": 57,
   "id": "24e72e75",
   "metadata": {},
   "outputs": [],
   "source": [
    "df_da.to_csv(\"Scraped jobs.csv\")"
   ]
  },
  {
   "cell_type": "code",
   "execution_count": null,
   "id": "ef4292de",
   "metadata": {},
   "outputs": [],
   "source": []
  }
 ],
 "metadata": {
  "kernelspec": {
   "display_name": "Python 3 (ipykernel)",
   "language": "python",
   "name": "python3"
  },
  "language_info": {
   "codemirror_mode": {
    "name": "ipython",
    "version": 3
   },
   "file_extension": ".py",
   "mimetype": "text/x-python",
   "name": "python",
   "nbconvert_exporter": "python",
   "pygments_lexer": "ipython3",
   "version": "3.9.7"
  }
 },
 "nbformat": 4,
 "nbformat_minor": 5
}
